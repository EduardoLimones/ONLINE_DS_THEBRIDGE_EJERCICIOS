{
  "cells": [
    {
      "cell_type": "markdown",
      "metadata": {
        "id": "view-in-github",
        "colab_type": "text"
      },
      "source": [
        "<a href=\"https://colab.research.google.com/github/EduardoLimones/ONLINE_DS_THEBRIDGE_EJERCICIOS/blob/main/10_Ejercicios_Python_Basisc_I_2.ipynb\" target=\"_parent\"><img src=\"https://colab.research.google.com/assets/colab-badge.svg\" alt=\"Open In Colab\"/></a>"
      ]
    },
    {
      "cell_type": "markdown",
      "metadata": {
        "id": "GB2K42EgK9q5"
      },
      "source": [
        "![TheBridge_logo_RGB_color.jpg](attachment:TheBridge_logo_RGB_color.jpg)"
      ]
    },
    {
      "cell_type": "markdown",
      "metadata": {
        "id": "GnwVlO37K9q6"
      },
      "source": [
        "![imagen](./img/ejercicios.png)"
      ]
    },
    {
      "cell_type": "markdown",
      "metadata": {
        "id": "_9pTa0PXK9q6"
      },
      "source": [
        "## EJERCICIOS PYTHON BASICO 2:\n",
        "## Tipos y conversión de tipos"
      ]
    },
    {
      "cell_type": "markdown",
      "metadata": {
        "id": "tYmV-veoK9q6"
      },
      "source": [
        "Completa los siguiente ejercicios, la solución a los mismos se publicarán en el repo del curso a lo largo del sprint"
      ]
    },
    {
      "cell_type": "markdown",
      "metadata": {
        "id": "YAdFbIOXK9q7"
      },
      "source": [
        "![ejercicio.png](./img/ejercicio.png)\n",
        "\n",
        "## Ejercicio 1\n",
        "\n",
        "1. Crea dos variables numericas: un `int` y un `float`\n",
        "2. Comprueba sus tipos\n",
        "3. Sumalas en otra nueva\n",
        "4. ¿De qué tipo es la nueva variable?\n",
        "5. Elimina las dos primeras variables creadas"
      ]
    },
    {
      "cell_type": "code",
      "execution_count": null,
      "metadata": {
        "id": "8QZmuLOsK9q7",
        "outputId": "1312f8a5-3850-44b6-ce55-130117216726",
        "colab": {
          "base_uri": "https://localhost:8080/"
        }
      },
      "outputs": [
        {
          "output_type": "stream",
          "name": "stdout",
          "text": [
            "<class 'int'>\n",
            "<class 'float'>\n",
            "46.4 <class 'float'>\n"
          ]
        }
      ],
      "source": [
        "entero = 36\n",
        "real = 10.4\n",
        "print(type(entero))\n",
        "print(type(real))\n",
        "suma = (entero + real)\n",
        "print(suma, type(suma))\n",
        "del entero\n",
        "del real\n"
      ]
    },
    {
      "cell_type": "markdown",
      "metadata": {
        "id": "f5xfpkpQK9q7"
      },
      "source": [
        "![ejercicio.png](./img/ejercicio.png)\n",
        "\n",
        "## Ejercicio 2\n",
        "Escribe un programa para pasar de grados a radianes. Hay que usar `input`. Recuerda que la conversión se realiza mediante\n",
        "\n",
        "radianes = grados*(pi/180)"
      ]
    },
    {
      "cell_type": "code",
      "execution_count": null,
      "metadata": {
        "id": "V50TUQMzK9q7",
        "outputId": "c58d9dab-9f60-4241-8c65-4fcb200aabcf",
        "colab": {
          "base_uri": "https://localhost:8080/"
        }
      },
      "outputs": [
        {
          "output_type": "stream",
          "name": "stdout",
          "text": [
            "Introduce los grados 14\n",
            "La conversion es 0.24434609527920614 radianes\n"
          ]
        }
      ],
      "source": [
        "grados = float(input(\"Introduce los grados \"))\n",
        "import math\n",
        "radianes=grados*(math.pi/180)\n",
        "print(\"La conversion es\", radianes, \"radianes\")"
      ]
    },
    {
      "cell_type": "markdown",
      "metadata": {
        "id": "zX3-p58CK9q7"
      },
      "source": [
        "![ejercicio.png](./img/ejercicio.png)\n",
        "\n",
        "## Ejercicio 3\n",
        "Escribe un programa que calcule el area de un paralelogramo (base x altura). También con `input`"
      ]
    },
    {
      "cell_type": "code",
      "execution_count": null,
      "metadata": {
        "id": "s2QfNiBAK9q7",
        "outputId": "f3977483-98e9-4f66-fdb4-02b1f202bd79",
        "colab": {
          "base_uri": "https://localhost:8080/"
        }
      },
      "outputs": [
        {
          "output_type": "stream",
          "name": "stdout",
          "text": [
            "introduce la base en cm 10\n",
            "introduce la altura en cm 110\n",
            "El área es de 1100 cm\n"
          ]
        }
      ],
      "source": [
        "base = int(input(\"introduce la base en cm \"))\n",
        "altura = int(input( \"introduce la altura en cm \"))\n",
        "area = base * altura\n",
        "print(\"El área es de\", area, \"cm\")"
      ]
    },
    {
      "cell_type": "markdown",
      "metadata": {
        "id": "-6TBo_HvK9q8"
      },
      "source": [
        "**texto en negrita**![ejercicio.png](./img/ejercicio.png)\n",
        "\n",
        "## Ejercicio 4\n",
        "Escribe un programa que calcule el area de un paralelogramo (base x altura). También con `input`. En este caso debe ser capaz de admitir valores reales, con decimales, para base y altura en español. (PISTA: Recuerda que tendrás que hacer uso del método replace)"
      ]
    },
    {
      "cell_type": "code",
      "execution_count": null,
      "metadata": {
        "id": "uzUIa1JqK9q8",
        "outputId": "20014a28-e3dc-4f5e-9633-399730494b00",
        "colab": {
          "base_uri": "https://localhost:8080/"
        }
      },
      "outputs": [
        {
          "output_type": "stream",
          "name": "stdout",
          "text": [
            "¡Vamos a calcular el area de un paralelogramo!\n",
            "introduce la base en cm 10.2\n",
            "introduce la altura en cm 10.2\n",
            "El área es de 104,03999999999999 cm\n"
          ]
        }
      ],
      "source": [
        "# No sé que ha querido decir con español,\n",
        "# pero he hecho que el resultado se muestre con \",\" en vez de \".\"\n",
        "\n",
        "print(\"¡Vamos a calcular el área de un paralelogramo!\")\n",
        "base = float(input(\"introduce la base en cm \"))\n",
        "altura = float(input(\"introduce la altura en cm \"))\n",
        "area = base * altura\n",
        "resultado = str(area)\n",
        "resultadore = resultado.replace(\".\",\",\",)\n",
        "print(\"El área es de\", resultadore, \"cm\")"
      ]
    },
    {
      "cell_type": "markdown",
      "metadata": {
        "id": "5zKugi5iK9q8"
      },
      "source": [
        "![ejercicio.png](./img/ejercicio.png)\n",
        "\n",
        "## Ejercicio 5\n",
        "Complete el siguiente código para solicitar al usuario su nombre y su edad. Luego, calcule en qué año nació el usuario y muestre el resultado."
      ]
    },
    {
      "cell_type": "code",
      "source": [
        "nombre = input(\"¿Cuál es tu nombre? \")\n",
        "edad = int(input( \"¿Cuál es tu edad \"))\n",
        "\n",
        "año_actual = 2025\n",
        "año_nacimiento = año_actual - edad\n",
        "\n",
        "\n",
        "print(f\"{nombre}, naciste en el año {año_nacimiento}.\")"
      ],
      "metadata": {
        "id": "evBs2wibv7dr",
        "outputId": "d2002ea4-6249-40ae-9326-e453046f5c74",
        "colab": {
          "base_uri": "https://localhost:8080/"
        }
      },
      "execution_count": null,
      "outputs": [
        {
          "output_type": "stream",
          "name": "stdout",
          "text": [
            "¿Cuál es tu nombre? Edu\n",
            "¿Cuál es tu edad 37\n",
            "Edu, naciste en el año 1988.\n"
          ]
        }
      ]
    }
  ],
  "metadata": {
    "kernelspec": {
      "display_name": "Curso_Online_DATA",
      "language": "python",
      "name": "python3"
    },
    "language_info": {
      "codemirror_mode": {
        "name": "ipython",
        "version": 3
      },
      "file_extension": ".py",
      "mimetype": "text/x-python",
      "name": "python",
      "nbconvert_exporter": "python",
      "pygments_lexer": "ipython3",
      "version": "3.11.5"
    },
    "orig_nbformat": 4,
    "colab": {
      "provenance": [],
      "include_colab_link": true
    }
  },
  "nbformat": 4,
  "nbformat_minor": 0
}