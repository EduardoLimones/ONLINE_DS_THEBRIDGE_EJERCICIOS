{
 "cells": [
  {
   "cell_type": "code",
   "execution_count": 2,
   "id": "311bc3ee-72d0-4bf3-ba09-b80054c58366",
   "metadata": {},
   "outputs": [
    {
     "name": "stdout",
     "output_type": "stream",
     "text": [
      "Hola Mundo\n"
     ]
    }
   ],
   "source": [
    "print(\"Hola Mundo\")"
   ]
  },
  {
   "cell_type": "markdown",
   "id": "2e38d2a8-a3de-43c5-a956-3a3ac6076d26",
   "metadata": {},
   "source": [
    "Hola Mundo"
   ]
  },
  {
   "cell_type": "code",
   "execution_count": null,
   "id": "59b90a23-7936-43d9-a878-cddadceedfff",
   "metadata": {},
   "outputs": [],
   "source": []
  }
 ],
 "metadata": {
  "kernelspec": {
   "display_name": "Python 3 (ipykernel)",
   "language": "python",
   "name": "python3"
  },
  "language_info": {
   "codemirror_mode": {
    "name": "ipython",
    "version": 3
   },
   "file_extension": ".py",
   "mimetype": "text/x-python",
   "name": "python",
   "nbconvert_exporter": "python",
   "pygments_lexer": "ipython3",
   "version": "3.10.11"
  }
 },
 "nbformat": 4,
 "nbformat_minor": 5
}
