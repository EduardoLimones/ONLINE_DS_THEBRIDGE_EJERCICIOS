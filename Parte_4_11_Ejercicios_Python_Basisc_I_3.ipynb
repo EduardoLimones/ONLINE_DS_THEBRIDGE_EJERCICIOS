{
  "cells": [
    {
      "cell_type": "markdown",
      "metadata": {
        "id": "view-in-github",
        "colab_type": "text"
      },
      "source": [
        "<a href=\"https://colab.research.google.com/github/EduardoLimones/ONLINE_DS_THEBRIDGE_EJERCICIOS/blob/main/Parte_4_11_Ejercicios_Python_Basisc_I_3.ipynb\" target=\"_parent\"><img src=\"https://colab.research.google.com/assets/colab-badge.svg\" alt=\"Open In Colab\"/></a>"
      ]
    },
    {
      "cell_type": "markdown",
      "metadata": {
        "id": "952zpxjBKh4M"
      },
      "source": [
        "![TheBridge_logo_RGB_color.jpg](attachment:TheBridge_logo_RGB_color.jpg)"
      ]
    },
    {
      "cell_type": "markdown",
      "metadata": {
        "id": "aQCZxnVqKh4V"
      },
      "source": [
        "![imagen](./img/ejercicios.png)"
      ]
    },
    {
      "cell_type": "markdown",
      "metadata": {
        "id": "RnANZXVEKh4W"
      },
      "source": [
        "## EJERCICIOS PYTHON BASICO 3:\n",
        "## Operaciones matemáticas, comparación y booleanas"
      ]
    },
    {
      "cell_type": "markdown",
      "metadata": {
        "id": "eboIm24AKh4Y"
      },
      "source": [
        "Completa los siguiente ejercicios, la solución completa a los mismos se publicarán en el repo del curso a lo largo del sprint. En algunos ejercicios se muestra la solución final, para que puedas comprobar que lo has hecho bien, pero lo importante es el código que generes. ¡Vaaamos, a ello...!"
      ]
    },
    {
      "cell_type": "markdown",
      "metadata": {
        "id": "Z9l5daw3Kh4Z"
      },
      "source": [
        "![ejercicio.png](./img/ejercicio.png)\n",
        "\n",
        "\n",
        "## Ejercicio 1\n",
        "Tenemos las siguientes variables:\n",
        "\n",
        "```Python\n",
        "A = 4\n",
        "B = \"Text\"\n",
        "C = 4.1\n",
        "```\n",
        "\n",
        "Comprueba:\n",
        "1. Si A y B son equivalentes\n",
        "2. Si A y C NO son equivalentes\n",
        "3. Si A es mayor que C\n",
        "4. Si C es menor o igual que A\n",
        "5. Si B NO es equivalente a C"
      ]
    },
    {
      "cell_type": "code",
      "execution_count": 56,
      "metadata": {
        "id": "m2jv6YRXKh4b",
        "outputId": "a2a889ed-7855-4695-d015-96faf3d0d67f",
        "colab": {
          "base_uri": "https://localhost:8080/"
        }
      },
      "outputs": [
        {
          "output_type": "stream",
          "name": "stdout",
          "text": [
            "False\n",
            "True\n",
            "False\n",
            "False\n",
            "True\n"
          ]
        }
      ],
      "source": [
        "print(A == B)\n",
        "print(A != C)\n",
        "print(A > C)\n",
        "print(C <= A)\n",
        "print(B != C)"
      ]
    },
    {
      "cell_type": "markdown",
      "metadata": {
        "id": "aIPlXV7NKh4d"
      },
      "source": [
        "![ejercicio.png](./img/ejercicio.png)\n",
        "\n",
        "## Ejercicio 2\n",
        "Crea un programa donde se recojan dos inputs del usuario, y el output del programa sea si esos inputs son iguales o no"
      ]
    },
    {
      "cell_type": "code",
      "execution_count": 23,
      "metadata": {
        "id": "eF_PCmrTKh4f",
        "outputId": "09109de2-d28b-449f-a690-21977b13aa0f",
        "colab": {
          "base_uri": "https://localhost:8080/"
        }
      },
      "outputs": [
        {
          "name": "stdout",
          "output_type": "stream",
          "text": [
            "Introduce un valor 1.2\n",
            "Otro un valor 1\n"
          ]
        },
        {
          "output_type": "execute_result",
          "data": {
            "text/plain": [
              "False"
            ]
          },
          "metadata": {},
          "execution_count": 23
        }
      ],
      "source": [
        "valor_1 = float(input(\"Introduce un valor \"))\n",
        "valor_2 = float(input(\"Otro un valor \"))\n",
        "valor_1 == valor_2"
      ]
    },
    {
      "cell_type": "markdown",
      "metadata": {
        "id": "W3lwJc-OKh4g"
      },
      "source": [
        "![ejercicio.png](./img/ejercicio.png)\n",
        "\n",
        "## Ejercicio 3\n",
        "Mismo programa que en 2, pero en esta ocasión tienen que ser tres inputs y dos salidas. Una de las salidas que nos indique si todos son iguales, y la otra si al menos dos inputs sí que lo son"
      ]
    },
    {
      "cell_type": "code",
      "execution_count": 54,
      "metadata": {
        "id": "o2PkJwfLKh4h",
        "outputId": "c59a6dfb-3ed7-461c-ff14-60f8c50b2494",
        "colab": {
          "base_uri": "https://localhost:8080/"
        }
      },
      "outputs": [
        {
          "output_type": "stream",
          "name": "stdout",
          "text": [
            "Introduce un valor 0\n",
            "Otro un valor 1\n",
            "Último valor 1\n",
            "False\n",
            "True\n"
          ]
        }
      ],
      "source": [
        "valor_1 = float(input(\"Introduce un valor \"))\n",
        "valor_2 = float(input(\"Otro un valor \"))\n",
        "valor_3 = float(input(\"Último valor \"))\n",
        "print(valor_1 == valor_2 == valor_3)\n",
        "print((valor_1 == valor_2 or valor_2 == valor_3 or valor_1 == valor_3))"
      ]
    },
    {
      "cell_type": "markdown",
      "metadata": {
        "id": "IRZa8x6JKh4i"
      },
      "source": [
        "![ejercicio.png](./img/ejercicio.png)\n",
        "\n",
        "## Ejercicio 4\n",
        "Razona sin ejecutar código el output que obtendremos de las siguientes sentencias\n",
        "1. True and True and False\n",
        "2. not ((True or False) and (True or False))\n",
        "3. (False or False or False or True) and False\n",
        "4. not False and True and not True"
      ]
    },
    {
      "cell_type": "markdown",
      "metadata": {
        "id": "ChtWwOBiKh4j"
      },
      "source": [
        "1.False\n",
        "2.True\n",
        "3.False\n",
        "4.False"
      ]
    }
  ],
  "metadata": {
    "kernelspec": {
      "display_name": "Curso_Online_DATA",
      "language": "python",
      "name": "python3"
    },
    "language_info": {
      "codemirror_mode": {
        "name": "ipython",
        "version": 3
      },
      "file_extension": ".py",
      "mimetype": "text/x-python",
      "name": "python",
      "nbconvert_exporter": "python",
      "pygments_lexer": "ipython3",
      "version": "3.11.5"
    },
    "orig_nbformat": 4,
    "colab": {
      "provenance": [],
      "include_colab_link": true
    }
  },
  "nbformat": 4,
  "nbformat_minor": 0
}