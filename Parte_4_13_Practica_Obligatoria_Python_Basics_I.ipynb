{
  "cells": [
    {
      "cell_type": "markdown",
      "metadata": {
        "id": "view-in-github",
        "colab_type": "text"
      },
      "source": [
        "<a href=\"https://colab.research.google.com/github/EduardoLimones/ONLINE_DS_THEBRIDGE_EJERCICIOS/blob/main/Parte_4_13_Practica_Obligatoria_Python_Basics_I.ipynb\" target=\"_parent\"><img src=\"https://colab.research.google.com/assets/colab-badge.svg\" alt=\"Open In Colab\"/></a>"
      ]
    },
    {
      "cell_type": "markdown",
      "metadata": {
        "id": "BNCAebJANPxq"
      },
      "source": [
        "![TheBridge_logo_RGB_color.jpg](attachment:TheBridge_logo_RGB_color.jpg)"
      ]
    },
    {
      "cell_type": "markdown",
      "metadata": {
        "id": "A9eDZvZaNPxs"
      },
      "source": [
        "![imagen](./img/ejercicios.png)"
      ]
    },
    {
      "cell_type": "markdown",
      "metadata": {
        "id": "59zPhBxXNPxs"
      },
      "source": [
        "## PRACTICA OBLIGATORIA: PYTHON"
      ]
    },
    {
      "cell_type": "markdown",
      "metadata": {
        "id": "mv2kb1GMNPxs"
      },
      "source": [
        "* La práctica obligatoria de esta unidad consiste en dos ejercicios de programación libre a completar.   \n",
        "* Recuerda que debes subirla a tu repositorio personal antes de la sesión en vivo para que puntúe adecuadamente.  \n",
        "* Recuerda también que no es necesario que esté perfecta, sólo es necesario que se vea el esfuerzo.\n",
        "* Esta práctica se resolverá en la sesión en vivo correspondiente y la solución se publicará en el repo del curso."
      ]
    },
    {
      "cell_type": "markdown",
      "metadata": {
        "id": "Kl9JzST2NPxt"
      },
      "source": [
        "![ejercicio.png](./img/ejercicio.png)\n",
        "## PARTE I\n",
        "\n",
        "En este ejercicio debes simular un chatbot al que le haremos pedidos de pizzas.\n",
        "\n",
        "1. El chatbot tiene que saludar con un: \"Buenas tardes, bienvenido al servicio de pedido online, el precio de nuestra pizzas es de 8,95 para la familiar o de 9,90 para la mediana ¿Cuántas pizzas  familiares desea?\"\n",
        "2. El ususario tiene que introducir un número de pizzas en una variable llamada 'pizz_familiar'\n",
        "3. El chatbot debe responder: \"Estupendo, ¿cuántas pizzas medianas desea?\" y guardar el número de pizzas medianas en otra variable 'pizz_mediana'\n",
        "4. Además debe responder del chatbot: \"Estupendo, se están preparando 'pizz' pizzas familiares y 'pizz_mediana' pizzas medianas. Digame su dirección\"\n",
        "5. El ususario tiene que introducir una direccion en formato String en otra variable llamada 'direcc'\n",
        "6. El programa debe calcular el monto total\n",
        "7. Respuesta final del chatbot: \"Le mandaremos las '(número total de pizzas)' pizzas a la dirección 'direcc'. Serán <precio total a pagar en euros>. Muchas gracias por su pedido.\"\n",
        "         \n"
      ]
    },
    {
      "cell_type": "code",
      "execution_count": 19,
      "metadata": {
        "id": "qkKibyt-NPxt",
        "outputId": "55fc44f6-23a9-4182-ae87-d6c79f2be40b",
        "colab": {
          "base_uri": "https://localhost:8080/"
        }
      },
      "outputs": [
        {
          "output_type": "stream",
          "name": "stdout",
          "text": [
            "Buenas tardes, bienvenido al servicio de pedido online, el precio de nuestra pizza es de 8,95 para la familiar o de 9,90 para la mediana ¿Cuántas pizzas familiares desea? 2\n",
            "Estupendo, ¿cuántas pizzas medianas desea? 2\n",
            "Estupendo, se están preparando 2 pizzas familiares y 2 pizzas medianas. Digame su dirección sdfsdf\n",
            "Le mandaremos las 4 pizzas a la dirección sdfsdf. seran 37,7 €. Muchas gracias\n"
          ]
        }
      ],
      "source": [
        "pizz_familiar = input(\"Buenas tardes, bienvenido al servicio de pedido online, el precio de nuestra pizza es de 8,95 para la familiar o de 9,90 para la mediana ¿Cuántas pizzas familiares desea? \")\n",
        "pizz_mediana = input(\"Estupendo, ¿cuántas pizzas medianas desea? \")\n",
        "direcc = input(f\"Estupendo, se están preparando {pizz_familiar} pizzas familiares y {pizz_mediana} pizzas medianas. Digame su dirección \")\n",
        "pi_f = int(pizz_familiar)\n",
        "pi_m = int(pizz_mediana)\n",
        "pi_t = pi_f+pi_m\n",
        "familiar = 8.95; mediana = 9.90\n",
        "familiar_total = (pi_f * familiar)\n",
        "mediana_total = (pi_m * mediana)\n",
        "suma_total = (familiar_total + mediana_total)\n",
        "suma_str = str(suma_total)\n",
        "suma = suma_str.replace(\".\",\",\")\n",
        "\n",
        "print(f\"Le mandaremos las {pi_t} pizzas a la dirección {direcc}. seran {suma} €. Muchas gracias\")\n"
      ]
    },
    {
      "cell_type": "markdown",
      "metadata": {
        "id": "f0oqoGDGNPxt"
      },
      "source": [
        "![ejercicio.png](./img/ejercicio.png)\n",
        "## Parte II\n",
        "\n",
        "Crea un programa que realice las siguientes acciones:\n",
        "\n",
        "1. Solicite al usuario que introduzca 3 números enteros separados por comas (por ejemplo: 1,2,3).\n",
        "2. Convierta esa entrada en una lista de números enteros.\n",
        "3. Utilizando funciones built-in, determine el número máximo, el número mínimo y la suma total de los números introducidos.\n",
        "4. Determine la verdad o falsedad de la siguiente afirmación: \"El número máximo menos el número mínimo es igual a la suma total dividida por 5\".\n",
        "5. Muestre los resultados utilizando print."
      ]
    },
    {
      "cell_type": "code",
      "execution_count": 53,
      "metadata": {
        "id": "rAlpWiQ9NPxt",
        "outputId": "61cb04bf-2590-4d9e-eb42-524a74326012",
        "colab": {
          "base_uri": "https://localhost:8080/"
        }
      },
      "outputs": [
        {
          "output_type": "stream",
          "name": "stdout",
          "text": [
            "Introduzca tres numeros enteros separados por comas, por favor 50,100,22\n",
            "Tu número máximo es  100\n",
            "Tu número mínimo es  22\n",
            "La suma de tus numeros es de  172\n",
            "False\n"
          ]
        }
      ],
      "source": [
        "num = input(\"Introduzca tres numeros enteros separados por comas, por favor \")\n",
        "numeros = num.split(\",\")\n",
        "num_real = [int(numero) for numero in numeros]\n",
        "\n",
        "print(\"Tu número máximo es \" ,max(num_real))\n",
        "print(\"Tu número mínimo es \" ,min(num_real))\n",
        "print(\"La suma de tus numeros es de \" ,sum(num_real))\n",
        "\n",
        "resultado = max(num_real)-min(num_real)\n",
        "\n",
        "\n",
        "final = resultado == sum(num_real)/5\n",
        "\n",
        "print(final)\n",
        "\n"
      ]
    }
  ],
  "metadata": {
    "kernelspec": {
      "display_name": "Curso_Online_DATA",
      "language": "python",
      "name": "python3"
    },
    "language_info": {
      "codemirror_mode": {
        "name": "ipython",
        "version": 3
      },
      "file_extension": ".py",
      "mimetype": "text/x-python",
      "name": "python",
      "nbconvert_exporter": "python",
      "pygments_lexer": "ipython3",
      "version": "3.11.5"
    },
    "orig_nbformat": 4,
    "colab": {
      "provenance": [],
      "include_colab_link": true
    }
  },
  "nbformat": 4,
  "nbformat_minor": 0
}